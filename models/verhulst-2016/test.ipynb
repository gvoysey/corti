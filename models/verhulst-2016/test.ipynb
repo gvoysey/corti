{
 "metadata": {},
 "nbformat": 3,
 "nbformat_minor": 0,
 "worksheets": [
  {
   "cells": [
    {
     "cell_type": "code",
     "collapsed": false,
     "input": [
      "import numpy as np\n",
      "    from datetime import datetime\n",
      "    import matplotlib as mpl\n",
      "    import matplotlib.pyplot as plt\n",
      "    "
     ],
     "language": "python",
     "metadata": {},
     "outputs": []
    },
    {
     "cell_type": "markdown",
     "metadata": {},
     "source": [
      "test output"
     ]
    }
   ],
   "metadata": {}
  }
 ]
}